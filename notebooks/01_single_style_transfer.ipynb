{
  "cells": [
    {
      "cell_type": "markdown",
      "metadata": {},
      "source": [
        "# 01 \u2014 Baseline Neural Style Transfer (PyTorch)\n",
        "\n",
        "Use this notebook to produce your first stylized output.\n",
        "- Put a photo in `data/content/` and a style image in `data/styles/`\n",
        "- Follow the NST steps from your guide (content/style loss + LBFGS)\n",
        "- Save result to `outputs/` and best picks to `gallery/`\n"
      ]
    },
    {
      "cell_type": "code",
      "execution_count": null,
      "metadata": {},
      "outputs": [],
      "source": [
        "print('Notebook scaffold ready. Paste your NST code here.')"
      ]
    }
  ],
  "metadata": {
    "kernelspec": {
      "display_name": "Python 3",
      "language": "python",
      "name": "python3"
    },
    "language_info": {
      "name": "python",
      "version": "3.x"
    }
  },
  "nbformat": 4,
  "nbformat_minor": 5
}